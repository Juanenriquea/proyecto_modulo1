{
 "cells": [
  {
   "cell_type": "markdown",
   "metadata": {},
   "source": [
    "### Ajuste curvas sobre fuerza laboral de mujeres en México\n",
    "Integrante 1: Juan Enrique Aguirre\n",
    "\n",
    "Integrante 2: Pablo García Bedoy"
   ]
  },
  {
   "cell_type": "code",
   "execution_count": 91,
   "metadata": {},
   "outputs": [],
   "source": [
    "import pandas as pd\n",
    "\n",
    "import numpy as np\n",
    "import matplotlib.pyplot as plt\n",
    "%matplotlib inline\n",
    "import sympy as sym\n",
    "\n",
    "import scipy.optimize as opt"
   ]
  },
  {
   "cell_type": "code",
   "execution_count": 92,
   "metadata": {},
   "outputs": [
    {
     "data": {
      "text/html": [
       "<div>\n",
       "<style scoped>\n",
       "    .dataframe tbody tr th:only-of-type {\n",
       "        vertical-align: middle;\n",
       "    }\n",
       "\n",
       "    .dataframe tbody tr th {\n",
       "        vertical-align: top;\n",
       "    }\n",
       "\n",
       "    .dataframe thead th {\n",
       "        text-align: right;\n",
       "    }\n",
       "</style>\n",
       "<table border=\"1\" class=\"dataframe\">\n",
       "  <thead>\n",
       "    <tr style=\"text-align: right;\">\n",
       "      <th></th>\n",
       "      <th>Consecutivo</th>\n",
       "      <th>Indicator Name</th>\n",
       "      <th>Labor force, female (% of total labor force)</th>\n",
       "    </tr>\n",
       "  </thead>\n",
       "  <tbody>\n",
       "    <tr>\n",
       "      <th>0</th>\n",
       "      <td>1</td>\n",
       "      <td>1990</td>\n",
       "      <td>29.409270</td>\n",
       "    </tr>\n",
       "    <tr>\n",
       "      <th>1</th>\n",
       "      <td>2</td>\n",
       "      <td>1991</td>\n",
       "      <td>29.779579</td>\n",
       "    </tr>\n",
       "    <tr>\n",
       "      <th>2</th>\n",
       "      <td>3</td>\n",
       "      <td>1992</td>\n",
       "      <td>30.255098</td>\n",
       "    </tr>\n",
       "    <tr>\n",
       "      <th>3</th>\n",
       "      <td>4</td>\n",
       "      <td>1993</td>\n",
       "      <td>30.779728</td>\n",
       "    </tr>\n",
       "    <tr>\n",
       "      <th>4</th>\n",
       "      <td>5</td>\n",
       "      <td>1994</td>\n",
       "      <td>31.332324</td>\n",
       "    </tr>\n",
       "    <tr>\n",
       "      <th>5</th>\n",
       "      <td>6</td>\n",
       "      <td>1995</td>\n",
       "      <td>32.520875</td>\n",
       "    </tr>\n",
       "    <tr>\n",
       "      <th>6</th>\n",
       "      <td>7</td>\n",
       "      <td>1996</td>\n",
       "      <td>32.438060</td>\n",
       "    </tr>\n",
       "    <tr>\n",
       "      <th>7</th>\n",
       "      <td>8</td>\n",
       "      <td>1997</td>\n",
       "      <td>33.418742</td>\n",
       "    </tr>\n",
       "    <tr>\n",
       "      <th>8</th>\n",
       "      <td>9</td>\n",
       "      <td>1998</td>\n",
       "      <td>33.276704</td>\n",
       "    </tr>\n",
       "    <tr>\n",
       "      <th>9</th>\n",
       "      <td>10</td>\n",
       "      <td>1999</td>\n",
       "      <td>32.974866</td>\n",
       "    </tr>\n",
       "    <tr>\n",
       "      <th>10</th>\n",
       "      <td>11</td>\n",
       "      <td>2000</td>\n",
       "      <td>33.359829</td>\n",
       "    </tr>\n",
       "    <tr>\n",
       "      <th>11</th>\n",
       "      <td>12</td>\n",
       "      <td>2001</td>\n",
       "      <td>33.095272</td>\n",
       "    </tr>\n",
       "    <tr>\n",
       "      <th>12</th>\n",
       "      <td>13</td>\n",
       "      <td>2002</td>\n",
       "      <td>33.671203</td>\n",
       "    </tr>\n",
       "    <tr>\n",
       "      <th>13</th>\n",
       "      <td>14</td>\n",
       "      <td>2003</td>\n",
       "      <td>33.594730</td>\n",
       "    </tr>\n",
       "    <tr>\n",
       "      <th>14</th>\n",
       "      <td>15</td>\n",
       "      <td>2004</td>\n",
       "      <td>34.778725</td>\n",
       "    </tr>\n",
       "    <tr>\n",
       "      <th>15</th>\n",
       "      <td>16</td>\n",
       "      <td>2005</td>\n",
       "      <td>35.174610</td>\n",
       "    </tr>\n",
       "    <tr>\n",
       "      <th>16</th>\n",
       "      <td>17</td>\n",
       "      <td>2006</td>\n",
       "      <td>35.748945</td>\n",
       "    </tr>\n",
       "    <tr>\n",
       "      <th>17</th>\n",
       "      <td>18</td>\n",
       "      <td>2007</td>\n",
       "      <td>36.018255</td>\n",
       "    </tr>\n",
       "    <tr>\n",
       "      <th>18</th>\n",
       "      <td>19</td>\n",
       "      <td>2008</td>\n",
       "      <td>36.050490</td>\n",
       "    </tr>\n",
       "    <tr>\n",
       "      <th>19</th>\n",
       "      <td>20</td>\n",
       "      <td>2009</td>\n",
       "      <td>36.538094</td>\n",
       "    </tr>\n",
       "    <tr>\n",
       "      <th>20</th>\n",
       "      <td>21</td>\n",
       "      <td>2010</td>\n",
       "      <td>36.507033</td>\n",
       "    </tr>\n",
       "    <tr>\n",
       "      <th>21</th>\n",
       "      <td>22</td>\n",
       "      <td>2011</td>\n",
       "      <td>36.758946</td>\n",
       "    </tr>\n",
       "    <tr>\n",
       "      <th>22</th>\n",
       "      <td>23</td>\n",
       "      <td>2012</td>\n",
       "      <td>37.247123</td>\n",
       "    </tr>\n",
       "    <tr>\n",
       "      <th>23</th>\n",
       "      <td>24</td>\n",
       "      <td>2013</td>\n",
       "      <td>37.383552</td>\n",
       "    </tr>\n",
       "    <tr>\n",
       "      <th>24</th>\n",
       "      <td>25</td>\n",
       "      <td>2014</td>\n",
       "      <td>36.915284</td>\n",
       "    </tr>\n",
       "    <tr>\n",
       "      <th>25</th>\n",
       "      <td>26</td>\n",
       "      <td>2015</td>\n",
       "      <td>37.145171</td>\n",
       "    </tr>\n",
       "    <tr>\n",
       "      <th>26</th>\n",
       "      <td>27</td>\n",
       "      <td>2016</td>\n",
       "      <td>37.236678</td>\n",
       "    </tr>\n",
       "    <tr>\n",
       "      <th>27</th>\n",
       "      <td>28</td>\n",
       "      <td>2017</td>\n",
       "      <td>37.086642</td>\n",
       "    </tr>\n",
       "    <tr>\n",
       "      <th>28</th>\n",
       "      <td>29</td>\n",
       "      <td>2018</td>\n",
       "      <td>37.168404</td>\n",
       "    </tr>\n",
       "  </tbody>\n",
       "</table>\n",
       "</div>"
      ],
      "text/plain": [
       "    Consecutivo  Indicator Name  Labor force, female (% of total labor force)\n",
       "0             1            1990                                     29.409270\n",
       "1             2            1991                                     29.779579\n",
       "2             3            1992                                     30.255098\n",
       "3             4            1993                                     30.779728\n",
       "4             5            1994                                     31.332324\n",
       "5             6            1995                                     32.520875\n",
       "6             7            1996                                     32.438060\n",
       "7             8            1997                                     33.418742\n",
       "8             9            1998                                     33.276704\n",
       "9            10            1999                                     32.974866\n",
       "10           11            2000                                     33.359829\n",
       "11           12            2001                                     33.095272\n",
       "12           13            2002                                     33.671203\n",
       "13           14            2003                                     33.594730\n",
       "14           15            2004                                     34.778725\n",
       "15           16            2005                                     35.174610\n",
       "16           17            2006                                     35.748945\n",
       "17           18            2007                                     36.018255\n",
       "18           19            2008                                     36.050490\n",
       "19           20            2009                                     36.538094\n",
       "20           21            2010                                     36.507033\n",
       "21           22            2011                                     36.758946\n",
       "22           23            2012                                     37.247123\n",
       "23           24            2013                                     37.383552\n",
       "24           25            2014                                     36.915284\n",
       "25           26            2015                                     37.145171\n",
       "26           27            2016                                     37.236678\n",
       "27           28            2017                                     37.086642\n",
       "28           29            2018                                     37.168404"
      ]
     },
     "execution_count": 92,
     "metadata": {},
     "output_type": "execute_result"
    }
   ],
   "source": [
    "file_name = 'female_labor.csv'\n",
    "data = pd.read_csv(file_name)\n",
    "data"
   ]
  },
  {
   "cell_type": "markdown",
   "metadata": {},
   "source": [
    "A continuación usaremos el consecutivo como variable independiente  𝑥  y el porcentaje de mujeres trabjando como variable dependiente  𝑦. Asimismo, ajustaremos polinomios de grado 1 hasta grado 5."
   ]
  },
  {
   "cell_type": "code",
   "execution_count": 93,
   "metadata": {},
   "outputs": [],
   "source": [
    "x = data.iloc[:,0].values\n",
    "y = data.iloc[:,2].values"
   ]
  },
  {
   "cell_type": "code",
   "execution_count": 94,
   "metadata": {},
   "outputs": [],
   "source": [
    "def fun_obj(beta,x,y,n):\n",
    "    yhat = beta.dot([x**i for i in range(n+1)])\n",
    "    e = y-yhat\n",
    "    return np.sum(e**2)"
   ]
  },
  {
   "cell_type": "code",
   "execution_count": 95,
   "metadata": {},
   "outputs": [],
   "source": [
    "b01 = np.zeros(2)\n",
    "b02 = np.zeros(3)\n",
    "b03 = np.zeros(4)\n",
    "b04 = np.zeros(5)\n",
    "\n",
    "polgrad1 = opt.minimize(fun_obj,b01,args=(x,y,1))\n",
    "polgrad2 = opt.minimize(fun_obj,b02,args=(x,y,2))\n",
    "polgrad3 = opt.minimize(fun_obj,b03,args=(x,y,3))\n",
    "polgrad4 = opt.minimize(fun_obj,b04,args=(x,y,4))"
   ]
  },
  {
   "cell_type": "code",
   "execution_count": 96,
   "metadata": {},
   "outputs": [
    {
     "data": {
      "text/plain": [
       "      fun: 11.35754779986876\n",
       " hess_inv: array([[ 0.0726601 , -0.00369458],\n",
       "       [-0.00369458,  0.00024631]])\n",
       "      jac: array([-8.34465027e-07, -4.76837158e-06])\n",
       "  message: 'Optimization terminated successfully.'\n",
       "     nfev: 24\n",
       "      nit: 4\n",
       "     njev: 6\n",
       "   status: 0\n",
       "  success: True\n",
       "        x: array([30.10666428,  0.28637003])"
      ]
     },
     "execution_count": 96,
     "metadata": {},
     "output_type": "execute_result"
    }
   ],
   "source": [
    "polgrad1"
   ]
  },
  {
   "cell_type": "code",
   "execution_count": 97,
   "metadata": {},
   "outputs": [
    {
     "data": {
      "text/plain": [
       "      fun: 5.209722889580083\n",
       " hess_inv: array([[ 1.78686331e-01, -2.42154806e-02,  6.84020261e-04],\n",
       "       [-2.42154806e-02,  4.21818712e-03, -1.32396501e-04],\n",
       "       [ 6.84020261e-04, -1.32396501e-04,  4.41326542e-06]])\n",
       "      jac: array([6.25848770e-06, 3.38131189e-03, 1.40166461e-01])\n",
       "  message: 'Desired error not necessarily achieved due to precision loss.'\n",
       "     nfev: 336\n",
       "      nit: 5\n",
       "     njev: 65\n",
       "   status: 2\n",
       "  success: False\n",
       "        x: array([ 2.89647385e+01,  5.07386418e-01, -7.36718588e-03])"
      ]
     },
     "execution_count": 97,
     "metadata": {},
     "output_type": "execute_result"
    }
   ],
   "source": [
    "polgrad2"
   ]
  },
  {
   "cell_type": "code",
   "execution_count": 98,
   "metadata": {},
   "outputs": [
    {
     "data": {
      "text/plain": [
       "      fun: 5.009356445204979\n",
       " hess_inv: array([[ 3.61584058e-01, -9.16944357e-02,  6.21279471e-03,\n",
       "        -1.22861032e-04],\n",
       "       [-9.16944357e-02,  2.91193869e-02, -2.17272293e-03,\n",
       "         4.53410781e-05],\n",
       "       [ 6.21279471e-03, -2.17272293e-03,  1.71594258e-04,\n",
       "        -3.71521320e-06],\n",
       "       [-1.22861032e-04,  4.53410781e-05, -3.71521320e-06,\n",
       "         8.25626629e-08]])\n",
       "      jac: array([-3.45706940e-06, -2.62856483e-05, -2.46405602e-04,  1.10864639e-05])\n",
       "  message: 'Desired error not necessarily achieved due to precision loss.'\n",
       "     nfev: 522\n",
       "      nit: 8\n",
       "     njev: 85\n",
       "   status: 2\n",
       "  success: False\n",
       "        x: array([ 2.92400795e+01,  4.05760702e-01,  9.59947089e-04, -1.85051294e-04])"
      ]
     },
     "execution_count": 98,
     "metadata": {},
     "output_type": "execute_result"
    }
   ],
   "source": [
    "polgrad3"
   ]
  },
  {
   "cell_type": "code",
   "execution_count": 99,
   "metadata": {},
   "outputs": [
    {
     "data": {
      "text/plain": [
       "      fun: 3.962211556788203\n",
       " hess_inv: array([[ 6.72150436e-01, -2.71593252e-01,  3.21395628e-02,\n",
       "        -1.45150084e-03,  2.21439947e-05],\n",
       "       [-2.71593252e-01,  1.33405382e-01, -1.72047674e-02,\n",
       "         8.15693881e-04, -1.28390673e-05],\n",
       "       [ 3.21395628e-02, -1.72047674e-02,  2.33860768e-03,\n",
       "        -1.14773429e-04,  1.85095821e-06],\n",
       "       [-1.45150084e-03,  8.15693881e-04, -1.14773429e-04,\n",
       "         5.77430178e-06, -9.48615617e-08],\n",
       "       [ 2.21439947e-05, -1.28390673e-05,  1.85095821e-06,\n",
       "        -9.48615617e-08,  1.58100628e-09]])\n",
       "      jac: array([  0.63003412,   2.56947759,  31.47297251, 313.09920603,\n",
       "        -7.20728356])\n",
       "  message: 'Desired error not necessarily achieved due to precision loss.'\n",
       "     nfev: 747\n",
       "      nit: 7\n",
       "     njev: 105\n",
       "   status: 2\n",
       "  success: False\n",
       "        x: array([ 2.80332527e+01,  1.15360875e+00, -1.09626476e-01,  5.56222641e-03,\n",
       "       -9.66538469e-05])"
      ]
     },
     "execution_count": 99,
     "metadata": {},
     "output_type": "execute_result"
    }
   ],
   "source": [
    "polgrad4"
   ]
  },
  {
   "cell_type": "code",
   "execution_count": 100,
   "metadata": {},
   "outputs": [],
   "source": [
    "beta1 = polgrad1.x\n",
    "beta2 = polgrad2.x\n",
    "beta3 = polgrad3.x\n",
    "beta4 = polgrad4.x"
   ]
  },
  {
   "cell_type": "code",
   "execution_count": 101,
   "metadata": {},
   "outputs": [],
   "source": [
    "yhat1 = beta1[0] + beta1[1]*x\n",
    "yhat2 = beta2[0] + beta2[1]*x + beta2[2]*x**2\n",
    "yhat3 = beta3[0] + beta3[1]*x + beta3[2]*x**2 + beta3[3]*x**3\n",
    "yhat4 = beta4[0] + beta4[1]*x + beta4[2]*x**2 + beta4[3]*x**3 + beta4[4]*x**4 "
   ]
  },
  {
   "cell_type": "code",
   "execution_count": 103,
   "metadata": {},
   "outputs": [
    {
     "data": {
      "image/png": "[encoded data removed]",
      "text/plain": [
       "<Figure size 576x432 with 1 Axes>"
      ]
     },
     "metadata": {
      "needs_background": "light"
     },
     "output_type": "display_data"
    }
   ],
   "source": [
    "plt.figure(figsize=(8,6))\n",
    "plt.plot(x,y,'k*',ms = 8,label='Puntos')\n",
    "plt.plot(x,yhat1,'b',ms = 8,label='Polinomio grado 1')\n",
    "plt.plot(x,yhat2,'r',ms = 8,label='Polinomio grado 2')\n",
    "plt.plot(x,yhat3,'g',ms = 8,label='Polinomio grado 3')\n",
    "plt.plot(x,yhat4,'m',ms = 8,label='Polinomio grado 4')\n",
    "\n",
    "plt.grid()\n",
    "plt.legend(loc='best')\n",
    "plt.xlabel('Años')\n",
    "plt.ylabel('% de Mujeres del total de la fuerza laboral')\n",
    "plt.show()"
   ]
  },
  {
   "cell_type": "code",
   "execution_count": 104,
   "metadata": {},
   "outputs": [
    {
     "data": {
      "text/plain": [
       "Text(0, 0.5, 'Error')"
      ]
     },
     "execution_count": 104,
     "metadata": {},
     "output_type": "execute_result"
    },
    {
     "data": {
      "image/png": "[encoded data removed]",
      "text/plain": [
       "<Figure size 576x432 with 1 Axes>"
      ]
     },
     "metadata": {
      "needs_background": "light"
     },
     "output_type": "display_data"
    }
   ],
   "source": [
    "error = [polgrad1.fun,polgrad2.fun,polgrad3.fun,polgrad4.fun]\n",
    "plt.figure(figsize=(8,6))\n",
    "plt.plot(range(1,5),error,'bx',ms=5)\n",
    "plt.xlabel('Orden del polinomio')\n",
    "plt.ylabel('Error')"
   ]
  },
  {
   "cell_type": "markdown",
   "metadata": {},
   "source": [
    "*Conclusión*"
   ]
  },
  {
   "cell_type": "markdown",
   "metadata": {},
   "source": [
    "Según la gráfica de los errores del polinomio de grado 1 al 4, podemos concluir que, el polinomio que mejor se ajusta es el de cuarto orden. Ya que representa el error mínimo (el valor más cercano a 0). Mientras que el polinomio de grado 1, su error es muy grande, como lo apreciamos en la pasada gráfca; y el polinomio de grado 2 ya es menor su error al igual que el del polinomio de grado 3, pero el del polinomio de grado 4 sigue siendo una mucho mejor aproximación.  \n"
   ]
  },
  {
   "cell_type": "markdown",
   "metadata": {},
   "source": [
    "Ahora, en base a los polinomios ajustados en el punto anterior, estimaremos las mujeres trabajando en el año 2017 y 2018 y compararemos con el dato real 37.0866419% y 37.168404%, respectivamente."
   ]
  },
  {
   "cell_type": "code",
   "execution_count": 105,
   "metadata": {},
   "outputs": [
    {
     "data": {
      "text/plain": [
       "(38.12502522270638,\n",
       " 37.39568444510757,\n",
       " 37.291731678997145,\n",
       " 37.080267436271356,\n",
       " 37.0866419)"
      ]
     },
     "execution_count": 105,
     "metadata": {},
     "output_type": "execute_result"
    }
   ],
   "source": [
    "x = 28\n",
    "yhat1 = beta1[0] + beta1[1]*x\n",
    "yhat2 = beta2[0] + beta2[1]*x + beta2[2]*x**2\n",
    "yhat3 = beta3[0] + beta3[1]*x + beta3[2]*x**2 + beta3[3]*x**3\n",
    "yhat4 = beta4[0] + beta4[1]*x + beta4[2]*x**2 + beta4[3]*x**3 + beta4[4]*x**4\n",
    "\n",
    "\n",
    "yhat1,yhat2,yhat3,yhat4,37.0866419"
   ]
  },
  {
   "cell_type": "code",
   "execution_count": 106,
   "metadata": {},
   "outputs": [
    {
     "data": {
      "text/plain": [
       "(38.4113952563052,\n",
       " 37.483141267863246,\n",
       " 37.301239361712625,\n",
       " 36.5877502213083,\n",
       " 37.168404)"
      ]
     },
     "execution_count": 106,
     "metadata": {},
     "output_type": "execute_result"
    }
   ],
   "source": [
    "x = 29\n",
    "yhat1 = beta1[0] + beta1[1]*x\n",
    "yhat2 = beta2[0] + beta2[1]*x + beta2[2]*x**2\n",
    "yhat3 = beta3[0] + beta3[1]*x + beta3[2]*x**2 + beta3[3]*x**3\n",
    "yhat4 = beta4[0] + beta4[1]*x + beta4[2]*x**2 + beta4[3]*x**3 + beta4[4]*x**4\n",
    "\n",
    "yhat1,yhat2,yhat3,yhat4,37.168404"
   ]
  },
  {
   "cell_type": "markdown",
   "metadata": {},
   "source": [
    "*Conclusión*. "
   ]
  },
  {
   "cell_type": "markdown",
   "metadata": {},
   "source": [
    "Una vez más, podemos corroborar que el polinomio que tiene menor error es el polinomio de grado 4, porque el polinomio que mejor estima el dato del 2017 y 2018 es el polinomio de grado cuatro.\n",
    "Quizá pueda parecer que el polinomio de grado 3 estima mejor el dato en el 2018. Sin embargo, hay que recordar que estos datos forman una gráfica que tiene altas y bajas. Esto significa, que el polinomio de grado 4, es el polinomio que más se acerca, en general, a lo que es el polinomio que determina los datos de 1990 a 2018. Es por esto, que pusimos que calculara datos de 2017 y 2018; y como se observo, en el 2017 sí se acerca demasiado al dato real, pero en 2018 el polinomio de grado 3 tiene una mejor aproximación al dato real que el polinomio de grado 4. Esto no quiere decir, como ya mencionamos anteriormente, que el polinomio de grado 3 sea mejor que el de grado 4, simplemente en este dato su aproximación es mejor que el de grado 4."
   ]
  },
  {
   "cell_type": "markdown",
   "metadata": {},
   "source": [
    "Ahora, en base al polinomio de grado 4, estimaremos las mujeres trabajando en el año 2019 como predicción basada en la base de datos que tenemos."
   ]
  },
  {
   "cell_type": "code",
   "execution_count": 107,
   "metadata": {},
   "outputs": [
    {
     "data": {
      "text/plain": [
       "35.86818351831087"
      ]
     },
     "execution_count": 107,
     "metadata": {},
     "output_type": "execute_result"
    }
   ],
   "source": [
    "x = 30\n",
    "\n",
    "yhat4 = beta4[0] + beta4[1]*x + beta4[2]*x**2 + beta4[3]*x**3 + beta4[4]*x**4\n",
    "\n",
    "yhat4"
   ]
  },
  {
   "cell_type": "markdown",
   "metadata": {},
   "source": [
    "*Conclusión*\n",
    "\n",
    "Ahora, con base en el polinomio de grado 4, de acuerdo al modelo que hicimos, en 2019 habrá una fuerza laboral de mujeres del 35.86%. Esta predicción es con un error del 3.96%.\n"
   ]
  },
  {
   "cell_type": "code",
   "execution_count": null,
   "metadata": {},
   "outputs": [],
   "source": []
  }
 ],
 "metadata": {
  "kernelspec": {
   "display_name": "Python 3",
   "language": "python",
   "name": "python3"
  },
  "language_info": {
   "codemirror_mode": {
    "name": "ipython",
    "version": 3
   },
   "file_extension": ".py",
   "mimetype": "text/x-python",
   "name": "python",
   "nbconvert_exporter": "python",
   "pygments_lexer": "ipython3",
   "version": "3.7.3"
  }
 },
 "nbformat": 4,
 "nbformat_minor": 2
}
