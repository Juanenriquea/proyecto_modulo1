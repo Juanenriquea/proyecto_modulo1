{
 "cells": [
  {
   "cell_type": "markdown",
   "metadata": {},
   "source": [
    "### Reporte escrito proyecto Simulación matemática\n",
    "\n",
    "**Integrante 1: Juan Enrique Aguirre**\n",
    "\n",
    "**Integrante 2: Pablo García Bedoy**\n",
    "\n"
   ]
  },
  {
   "cell_type": "markdown",
   "metadata": {},
   "source": [
    "## Ajuste de curvas sobre la fuerza laboral de mujeres en México\n"
   ]
  },
  {
   "cell_type": "markdown",
   "metadata": {},
   "source": [
    "### **Objetivos**"
   ]
  },
  {
   "cell_type": "markdown",
   "metadata": {},
   "source": [
    "**1.1 Objetivo General**"
   ]
  },
  {
   "cell_type": "markdown",
   "metadata": {},
   "source": [
    "Crear un modelo matemático que genere una curva que se apegue a una colección de datos de la manera que tenga el menor error y permita dar predicciones acerca de datos futuros.\n"
   ]
  },
  {
   "cell_type": "markdown",
   "metadata": {},
   "source": [
    "**1.2 Objetivos Específicos**\n"
   ]
  },
  {
   "cell_type": "markdown",
   "metadata": {},
   "source": [
    "Tomar datos anuales reales acerca de la fuerza laboral de las mujeres en México \n",
    "\n",
    "Crear un acercamiento polinomial por medio del método de los mínimos cuadrados\n",
    "\n",
    "A partir del polinomio resultante, hacer una predicción acerca del año en curso."
   ]
  },
  {
   "cell_type": "markdown",
   "metadata": {},
   "source": [
    "***Modelo que representa el problema***\n"
   ]
  },
  {
   "cell_type": "markdown",
   "metadata": {},
   "source": [
    "Se llegó a distintas posibles soluciones, que en este caso representan polinomios de distintos órdenes. Se hicieron de orden del 1 al 4, siendo este último el que tuvo un menor error respecto a los datos reales, por lo que el modelo que representa este problema es el del polinomio de grado 4."
   ]
  },
  {
   "cell_type": "markdown",
   "metadata": {},
   "source": [
    "![](Imagen_simulacion2.png)"
   ]
  },
  {
   "cell_type": "markdown",
   "metadata": {},
   "source": [
    "Precisamente, lo que buscabamos era obtener una ecuación que nso acercara lo más posible a la gráfica real."
   ]
  },
  {
   "cell_type": "markdown",
   "metadata": {},
   "source": [
    "Todo esto fue, en gran parte, en base a los datos que obtuvimos del sitio de \"The World bank\", porque estos datos, así como la gráfica, son los datos verídicos en los que nos basamos."
   ]
  },
  {
   "cell_type": "markdown",
   "metadata": {},
   "source": [
    "**Solución**"
   ]
  },
  {
   "cell_type": "markdown",
   "metadata": {},
   "source": [
    "Después de aplicar un polinomio desde grado 1, hasta grado 4, a la gráfica de fuerza laboral de la mujer en México. Llegamos a la conclusión que la mejor solución, o la que más se aproxima a la gráfica real, es el polinomio de grado 4. Ya que este nos permite obtener una aproximación con un error de sólo el 3.96%. Siendo este un error mínimo y que nos ayuda para poder predecir lo que pasará en los próximos años. \n",
    "\n",
    "Se hizo el ejercicio de predicción del año 2019 y dió como resultado que en este año habrá incrementado el porcentaje de la fuerza laboral de las mujeres al 35.86%.\n"
   ]
  },
  {
   "cell_type": "markdown",
   "metadata": {},
   "source": [
    "**Visualización de la solución**"
   ]
  },
  {
   "cell_type": "markdown",
   "metadata": {},
   "source": [
    "![](Imagen_simulacion.png)"
   ]
  },
  {
   "attachments": {},
   "cell_type": "markdown",
   "metadata": {},
   "source": [
    "![](Imagen_simulacion3.png)"
   ]
  },
  {
   "cell_type": "markdown",
   "metadata": {},
   "source": [
    "**Conclusiones**"
   ]
  },
  {
   "cell_type": "markdown",
   "metadata": {},
   "source": [
    "Se tomaron datos actuales y reales de una situación relevante en la sociedad contemporánea  y se generó un modelo matemático que describe el comportamiento de los datos encontrados de la manera más apegada posible. Se logró con una función polinomial de grado 4 con un error de 3.96 y se utilizó este mismo modelo para predecir datos futuros, como el de el año actual, que resultó en un 35.86%, que es menor al dato anterior de, aproximadamente, 37.16%"
   ]
  },
  {
   "cell_type": "markdown",
   "metadata": {},
   "source": [
    "**Referencias**"
   ]
  },
  {
   "cell_type": "markdown",
   "metadata": {},
   "source": [
    "S.A. 2019. Labor Force, female (% of total labor force). World Bank Group. Recuperado de https://data.worldbank.org/indicator/SL.TLF.TOTL.FE.ZS?locations=MX&view=chart"
   ]
  },
  {
   "cell_type": "markdown",
   "metadata": {},
   "source": []
  }
 ],
 "metadata": {
  "kernelspec": {
   "display_name": "Python 3",
   "language": "python",
   "name": "python3"
  },
  "language_info": {
   "codemirror_mode": {
    "name": "ipython",
    "version": 3
   },
   "file_extension": ".py",
   "mimetype": "text/x-python",
   "name": "python",
   "nbconvert_exporter": "python",
   "pygments_lexer": "ipython3",
   "version": "3.7.3"
  }
 },
 "nbformat": 4,
 "nbformat_minor": 2
}
